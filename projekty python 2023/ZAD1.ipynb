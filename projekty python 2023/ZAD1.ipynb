{
 "cells": [
  {
   "cell_type": "code",
   "execution_count": null,
   "id": "ba6c9f24",
   "metadata": {},
   "outputs": [],
   "source": [
    "#lista produktów\n",
    "Lista_produktów = [\"ananas\", \"arbuz\", \"awokado\", \"bakłażan\", \"banan\", \"borówki\", \"brokuł\", \"brzoskwinia\", \"buraki\", \"cebula\", \"chrzan\", \"cukinia\", \"cytryna\", \"czosnek\", \"dynia\", \"grahamka\", \"grejfrut\", \"gruszka\", \"jabłko\", \"jajko\", \"kajzerka\", \"kalafior\", \"kalarepa\", \"kiwi\", \"kukurydza\", \"malina\", \"mandarynka\", \"mango\", \"marakuja\", \"marchew\", \"masło\", \"morele suszone\", \"nektarynka\", \"ogórek\", \"olej\", \"papryka\", \"pekińska\", \"pestki dyni\", \"pestki słonecznika\", \"pesto\", \"pieczarki\", \"pietruszka\", \"pomarańcza\", \"pomidor\", \"pomidory uszone\", \"por\", \"pro body\", \"rabarbar\", \"rukola\", \"sałata\", \"seler\", \"serekZioła\", \"szparagowa\", \"szpinak\", \"śliwka\", \"śliwki suszone\", \"tortilla\", \"truskawka\", \"winogrona\", \"ziemniaki\", \"ryż\", \"szynka\", \"pudding\", \"łosoś\", \"jogurt\", \"cukier\", \"chleb\", \"makaron\", \"gofry\", \"frankfurterki\", \"chlebŻurawinowy\", \"rosół\", \"schab\"]\n",
    "\n",
    "#lista kaloryczności \n",
    "kaloryczność = [ 50, 30, 160, 24, 82, 57, 34, 40, 43, 40, 102, 16, 28, 149, 30, 300, 42, 57, 52, 80, 293, 24, 27, 50, 80, 53, 53, 68, 87, 40, 748, 250, 44, 15, 800, 30, 12, 446, 584, 451, 28, 49, 47, 18, 255, 60, 307, 21, 25, 14, 42, 243, 35, 16, 46, 280, 260, 33, 66, 71, 120, 100, 82, 254, 67, 400, 278, 131, 244, 242, 136, 50, 250]\n",
    "\n",
    "#dane\n",
    "wiek = int(input(\"Twój wiek (w latach): \"))\n",
    "waga = float(input(\"Twoja waga (w kilogramach): \"))\n",
    "wzrost = int(input(\"Twój wzrost (w cm): \"))\n",
    "plec = str(input(\"Podaj płeć (mężczyzna - 'm', kobieta - 'k'): \"))\n",
    "\n",
    "#obliczamy PPM\n",
    "if plec == 'm': \n",
    "    ppm = 66.47 + (13.7 * waga) + (5 * wzrost) - (6.76 * wiek) \n",
    "elif plec == 'k': ppm = 655.1 + (9.567 * waga) + (1.85 * wzrost) - (4.68 * wiek)\n",
    "\n",
    "print( f\"Twoje PPM: {ppm}\")\n",
    "\n",
    "#potrawy w dziennym zestawie\n",
    "potrawy = [ 'olej','cukinia', 'cebula', 'jajko', 'ogórek', 'chleb', 'ziemniaki', 'masło', 'pomidor', 'ogórek', 'kajzerka', 'ogórek', 'serekZioła', 'ryż', 'cukinia', 'kajzerka', 'ogórek', 'serekZioła', 'kajzerka', 'ogórek', 'serekZioła']\n",
    "\n",
    "\n",
    "#grmatura produktów\n",
    "gramatury = [5,274,100,200,80,100,472,14,108,376,58,181,22,168,96,58,181,22,58,181,22]\n",
    "\n",
    "\n",
    "kcal = 0\n",
    "\n",
    "#kaloryczność diety\n",
    "for i in range(0, len(potrawy)):\n",
    "    potrawa = potrawy[i]\n",
    "    indeks = Lista_produktów.index(potrawa)\n",
    "    kcal += (kaloryczność[indeks] / 100) * gramatury[i]\n",
    "\n",
    "\n",
    "print(f\"Kaloryczność podanych potraw: {kcal} kcal\")\n",
    "\n",
    "#określanie wartości zestawu\n",
    "if kcal >= ppm and kcal <= ppm*1.2: \n",
    "    print(\"Zestaw jest normalny.\") \n",
    "elif kcal < ppm: print(\"Zestaw jest głodowy.\") \n",
    "elif kcal > ppm: print(\"Zestaw jest obfity.\")"
   ]
  }
 ],
 "metadata": {
  "kernelspec": {
   "display_name": "Python 3 (ipykernel)",
   "language": "python",
   "name": "python3"
  },
  "language_info": {
   "codemirror_mode": {
    "name": "ipython",
    "version": 3
   },
   "file_extension": ".py",
   "mimetype": "text/x-python",
   "name": "python",
   "nbconvert_exporter": "python",
   "pygments_lexer": "ipython3",
   "version": "3.10.9"
  }
 },
 "nbformat": 4,
 "nbformat_minor": 5
}
